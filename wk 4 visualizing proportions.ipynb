{
 "cells": [
  {
   "cell_type": "markdown",
   "id": "973eeecc",
   "metadata": {},
   "source": [
    "Did you know you can create donut, pie, and waffle charts in Excel? Using a dataset of your choice, create these three charts right in an Excel spreadsheet."
   ]
  }
 ],
 "metadata": {
  "language_info": {
   "name": "python"
  }
 },
 "nbformat": 4,
 "nbformat_minor": 5
}
